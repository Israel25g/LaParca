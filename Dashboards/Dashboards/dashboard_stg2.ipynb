{
 "cells": [
  {
   "cell_type": "code",
   "execution_count": 33,
   "metadata": {},
   "outputs": [],
   "source": [
    "import pandas as pd\n",
    "import numpy as np\n",
    "\n",
    "masterImports = pd.read_excel('Data/DETALLE SAINT GOBAIN_copia.xlsx', sheet_name='ENTRADAS 2024')"
   ]
  },
  {
   "cell_type": "code",
   "execution_count": 34,
   "metadata": {},
   "outputs": [
    {
     "data": {
      "text/html": [
       "<div>\n",
       "<style scoped>\n",
       "    .dataframe tbody tr th:only-of-type {\n",
       "        vertical-align: middle;\n",
       "    }\n",
       "\n",
       "    .dataframe tbody tr th {\n",
       "        vertical-align: top;\n",
       "    }\n",
       "\n",
       "    .dataframe thead th {\n",
       "        text-align: right;\n",
       "    }\n",
       "</style>\n",
       "<table border=\"1\" class=\"dataframe\">\n",
       "  <thead>\n",
       "    <tr style=\"text-align: right;\">\n",
       "      <th></th>\n",
       "      <th>#</th>\n",
       "      <th>Fecha de descarga</th>\n",
       "      <th>BL No.</th>\n",
       "      <th>AID</th>\n",
       "      <th>Origen</th>\n",
       "      <th>REFERENCIA</th>\n",
       "      <th>Puerto de llegada</th>\n",
       "      <th>Contenedor</th>\n",
       "      <th>Tamaño</th>\n",
       "      <th>DMC $125.00</th>\n",
       "      <th>...</th>\n",
       "      <th>TI</th>\n",
       "      <th>Gastos Portuarios</th>\n",
       "      <th>Otros /Flete</th>\n",
       "      <th>Documentacion de aduana</th>\n",
       "      <th>Valor F.O.B.</th>\n",
       "      <th>ASN OK?</th>\n",
       "      <th>excedente</th>\n",
       "      <th>Faltante</th>\n",
       "      <th>Abolladura</th>\n",
       "      <th>Producto afectado</th>\n",
       "    </tr>\n",
       "  </thead>\n",
       "  <tbody>\n",
       "    <tr>\n",
       "      <th>0</th>\n",
       "      <td>1</td>\n",
       "      <td>2024-01-04</td>\n",
       "      <td>SSZ1410999 / SGB202311002</td>\n",
       "      <td>118</td>\n",
       "      <td>BRASIL</td>\n",
       "      <td>SSZ1410999 / SGB202311002</td>\n",
       "      <td>MANZANILLO</td>\n",
       "      <td>TEXU9539902</td>\n",
       "      <td>40</td>\n",
       "      <td>20230702186</td>\n",
       "      <td>...</td>\n",
       "      <td>0.0</td>\n",
       "      <td>47</td>\n",
       "      <td>0.0</td>\n",
       "      <td>25 TI</td>\n",
       "      <td>100599.95</td>\n",
       "      <td>0</td>\n",
       "      <td>0</td>\n",
       "      <td>0</td>\n",
       "      <td>0</td>\n",
       "      <td>0</td>\n",
       "    </tr>\n",
       "    <tr>\n",
       "      <th>1</th>\n",
       "      <td>2</td>\n",
       "      <td>2024-01-17</td>\n",
       "      <td>MIA/PTY/E23220</td>\n",
       "      <td>119</td>\n",
       "      <td>ESTADOS UNIDOS</td>\n",
       "      <td>MIA/PTY/E23220</td>\n",
       "      <td>MANZANILLO</td>\n",
       "      <td>724816</td>\n",
       "      <td>26</td>\n",
       "      <td>20230698394</td>\n",
       "      <td>...</td>\n",
       "      <td>0.0</td>\n",
       "      <td>0</td>\n",
       "      <td>15.0</td>\n",
       "      <td>0</td>\n",
       "      <td>15408.92</td>\n",
       "      <td>0</td>\n",
       "      <td>0</td>\n",
       "      <td>0</td>\n",
       "      <td>0</td>\n",
       "      <td>0</td>\n",
       "    </tr>\n",
       "  </tbody>\n",
       "</table>\n",
       "<p>2 rows × 29 columns</p>\n",
       "</div>"
      ],
      "text/plain": [
       "   # Fecha de descarga                    BL No.   AID          Origen  \\\n",
       "0  1        2024-01-04  SSZ1410999 / SGB202311002  118          BRASIL   \n",
       "1  2        2024-01-17             MIA/PTY/E23220  119  ESTADOS UNIDOS   \n",
       "\n",
       "                  REFERENCIA Puerto de llegada  Contenedor  Tamaño  \\\n",
       "0  SSZ1410999 / SGB202311002        MANZANILLO  TEXU9539902     40   \n",
       "1             MIA/PTY/E23220        MANZANILLO       724816     26   \n",
       "\n",
       "   DMC $125.00  ...   TI  Gastos Portuarios  Otros /Flete  \\\n",
       "0  20230702186  ...  0.0                 47           0.0   \n",
       "1  20230698394  ...  0.0                  0          15.0   \n",
       "\n",
       "   Documentacion de aduana  Valor F.O.B.  ASN OK?  excedente  Faltante  \\\n",
       "0                    25 TI     100599.95        0          0         0   \n",
       "1                        0      15408.92        0          0         0   \n",
       "\n",
       "   Abolladura  Producto afectado  \n",
       "0           0                  0  \n",
       "1           0                  0  \n",
       "\n",
       "[2 rows x 29 columns]"
      ]
     },
     "execution_count": 34,
     "metadata": {},
     "output_type": "execute_result"
    }
   ],
   "source": [
    "masterImports.fillna(0, inplace=True)\n",
    "masterImports.head(2)\n"
   ]
  },
  {
   "cell_type": "markdown",
   "metadata": {},
   "source": [
    "# Apartado de Imports"
   ]
  },
  {
   "cell_type": "markdown",
   "metadata": {},
   "source": [
    "Acumulado"
   ]
  },
  {
   "cell_type": "code",
   "execution_count": 35,
   "metadata": {},
   "outputs": [
    {
     "name": "stdout",
     "output_type": "stream",
     "text": [
      "Total de cajas:  111765\n",
      "Total de CBM:  721.5899999999999\n",
      "Total de Paletas:  728\n"
     ]
    }
   ],
   "source": [
    "totalCajas = int(masterImports['CAJAS'].sum())\n",
    "totalCBM = float(masterImports['CBM'].sum())\n",
    "totalPaletas = int(masterImports['Total Paletas'].sum())\n",
    "palSKU = int(masterImports[ 'PALETAS 1 SKU'].sum())\n",
    "\n",
    "\n",
    "print('Total de cajas: ', totalCajas)\t\n",
    "print('Total de CBM: ',  totalCBM)\n",
    "print('Total de Paletas: ', totalPaletas)\n"
   ]
  },
  {
   "cell_type": "markdown",
   "metadata": {},
   "source": [
    "Cuadro de Embarques"
   ]
  },
  {
   "cell_type": "code",
   "execution_count": 70,
   "metadata": {},
   "outputs": [
    {
     "data": {
      "text/html": [
       "<div>\n",
       "<style scoped>\n",
       "    .dataframe tbody tr th:only-of-type {\n",
       "        vertical-align: middle;\n",
       "    }\n",
       "\n",
       "    .dataframe tbody tr th {\n",
       "        vertical-align: top;\n",
       "    }\n",
       "\n",
       "    .dataframe thead th {\n",
       "        text-align: right;\n",
       "    }\n",
       "</style>\n",
       "<table border=\"1\" class=\"dataframe\">\n",
       "  <thead>\n",
       "    <tr style=\"text-align: right;\">\n",
       "      <th>Fecha de descarga</th>\n",
       "      <th>April</th>\n",
       "      <th>August</th>\n",
       "      <th>February</th>\n",
       "      <th>January</th>\n",
       "      <th>July</th>\n",
       "      <th>March</th>\n",
       "      <th>May</th>\n",
       "    </tr>\n",
       "    <tr>\n",
       "      <th>Tamaño</th>\n",
       "      <th></th>\n",
       "      <th></th>\n",
       "      <th></th>\n",
       "      <th></th>\n",
       "      <th></th>\n",
       "      <th></th>\n",
       "      <th></th>\n",
       "    </tr>\n",
       "  </thead>\n",
       "  <tbody>\n",
       "    <tr>\n",
       "      <th>20</th>\n",
       "      <td>0.0</td>\n",
       "      <td>1.0</td>\n",
       "      <td>2.0</td>\n",
       "      <td>0.0</td>\n",
       "      <td>1.0</td>\n",
       "      <td>0.0</td>\n",
       "      <td>0.0</td>\n",
       "    </tr>\n",
       "    <tr>\n",
       "      <th>26</th>\n",
       "      <td>3.0</td>\n",
       "      <td>0.0</td>\n",
       "      <td>0.0</td>\n",
       "      <td>2.0</td>\n",
       "      <td>0.0</td>\n",
       "      <td>0.0</td>\n",
       "      <td>0.0</td>\n",
       "    </tr>\n",
       "    <tr>\n",
       "      <th>40</th>\n",
       "      <td>2.0</td>\n",
       "      <td>2.0</td>\n",
       "      <td>0.0</td>\n",
       "      <td>2.0</td>\n",
       "      <td>4.0</td>\n",
       "      <td>4.0</td>\n",
       "      <td>5.0</td>\n",
       "    </tr>\n",
       "    <tr>\n",
       "      <th>LCL</th>\n",
       "      <td>0.0</td>\n",
       "      <td>1.0</td>\n",
       "      <td>0.0</td>\n",
       "      <td>0.0</td>\n",
       "      <td>3.0</td>\n",
       "      <td>0.0</td>\n",
       "      <td>0.0</td>\n",
       "    </tr>\n",
       "  </tbody>\n",
       "</table>\n",
       "</div>"
      ],
      "text/plain": [
       "Fecha de descarga  April  August  February  January  July  March  May\n",
       "Tamaño                                                               \n",
       "20                   0.0     1.0       2.0      0.0   1.0    0.0  0.0\n",
       "26                   3.0     0.0       0.0      2.0   0.0    0.0  0.0\n",
       "40                   2.0     2.0       0.0      2.0   4.0    4.0  5.0\n",
       "LCL                  0.0     1.0       0.0      0.0   3.0    0.0  0.0"
      ]
     },
     "execution_count": 70,
     "metadata": {},
     "output_type": "execute_result"
    }
   ],
   "source": [
    "fechaDescarga = masterImports['Fecha de descarga']\n",
    "fechaDescarga = fechaDescarga.dt.strftime('%B')  # Formatear la fecha para obtener solo el mes y el año\n",
    "\n",
    "# Crear la tabla pivote con los meses como columnas\n",
    "contRecibidos = pd.pivot_table(masterImports, index=fechaDescarga, columns='Tamaño', values='#', aggfunc='count').fillna(0)\n",
    "contRecibidos = contRecibidos.transpose()\n",
    "\n",
    "contRecibidos"
   ]
  },
  {
   "cell_type": "code",
   "execution_count": 73,
   "metadata": {},
   "outputs": [],
   "source": [
    "cont"
   ]
  }
 ],
 "metadata": {
  "kernelspec": {
   "display_name": "base",
   "language": "python",
   "name": "python3"
  },
  "language_info": {
   "codemirror_mode": {
    "name": "ipython",
    "version": 3
   },
   "file_extension": ".py",
   "mimetype": "text/x-python",
   "name": "python",
   "nbconvert_exporter": "python",
   "pygments_lexer": "ipython3",
   "version": "3.12.4"
  }
 },
 "nbformat": 4,
 "nbformat_minor": 2
}
