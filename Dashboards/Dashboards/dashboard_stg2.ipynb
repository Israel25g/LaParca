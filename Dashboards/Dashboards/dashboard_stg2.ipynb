{
 "cells": [
  {
   "cell_type": "code",
   "execution_count": 310,
   "metadata": {},
   "outputs": [],
   "source": [
    "import pandas as pd\n",
    "import numpy as np\n",
    "\n",
    "masterImports = pd.read_excel('Data/DETALLE SAINT GOBAIN_copia.xlsx', sheet_name='ENTRADAS 2024')"
   ]
  },
  {
   "cell_type": "code",
   "execution_count": 311,
   "metadata": {},
   "outputs": [
    {
     "data": {
      "text/html": [
       "<div>\n",
       "<style scoped>\n",
       "    .dataframe tbody tr th:only-of-type {\n",
       "        vertical-align: middle;\n",
       "    }\n",
       "\n",
       "    .dataframe tbody tr th {\n",
       "        vertical-align: top;\n",
       "    }\n",
       "\n",
       "    .dataframe thead th {\n",
       "        text-align: right;\n",
       "    }\n",
       "</style>\n",
       "<table border=\"1\" class=\"dataframe\">\n",
       "  <thead>\n",
       "    <tr style=\"text-align: right;\">\n",
       "      <th></th>\n",
       "      <th>#</th>\n",
       "      <th>Fecha de descarga</th>\n",
       "      <th>BL No.</th>\n",
       "      <th>AID</th>\n",
       "      <th>Origen</th>\n",
       "      <th>REFERENCIA</th>\n",
       "      <th>Puerto de llegada</th>\n",
       "      <th>Contenedor</th>\n",
       "      <th>Tamaño</th>\n",
       "      <th>DMC $125.00</th>\n",
       "      <th>...</th>\n",
       "      <th>TI</th>\n",
       "      <th>Gastos Portuarios</th>\n",
       "      <th>Otros /Flete</th>\n",
       "      <th>Documentacion de aduana</th>\n",
       "      <th>Valor F.O.B.</th>\n",
       "      <th>ASN OK?</th>\n",
       "      <th>excedente</th>\n",
       "      <th>Faltante</th>\n",
       "      <th>Abolladura</th>\n",
       "      <th>Producto afectado</th>\n",
       "    </tr>\n",
       "  </thead>\n",
       "  <tbody>\n",
       "    <tr>\n",
       "      <th>0</th>\n",
       "      <td>1</td>\n",
       "      <td>2024-01-04</td>\n",
       "      <td>SSZ1410999 / SGB202311002</td>\n",
       "      <td>118</td>\n",
       "      <td>BRASIL</td>\n",
       "      <td>SSZ1410999 / SGB202311002</td>\n",
       "      <td>MANZANILLO</td>\n",
       "      <td>TEXU9539902</td>\n",
       "      <td>40</td>\n",
       "      <td>20230702186</td>\n",
       "      <td>...</td>\n",
       "      <td>0.0</td>\n",
       "      <td>47</td>\n",
       "      <td>0.0</td>\n",
       "      <td>25 TI</td>\n",
       "      <td>100599.95</td>\n",
       "      <td>0</td>\n",
       "      <td>0</td>\n",
       "      <td>0</td>\n",
       "      <td>0</td>\n",
       "      <td>0</td>\n",
       "    </tr>\n",
       "    <tr>\n",
       "      <th>1</th>\n",
       "      <td>2</td>\n",
       "      <td>2024-01-17</td>\n",
       "      <td>MIA/PTY/E23220</td>\n",
       "      <td>119</td>\n",
       "      <td>ESTADOS UNIDOS</td>\n",
       "      <td>MIA/PTY/E23220</td>\n",
       "      <td>MANZANILLO</td>\n",
       "      <td>724816</td>\n",
       "      <td>26</td>\n",
       "      <td>20230698394</td>\n",
       "      <td>...</td>\n",
       "      <td>0.0</td>\n",
       "      <td>0</td>\n",
       "      <td>15.0</td>\n",
       "      <td>0</td>\n",
       "      <td>15408.92</td>\n",
       "      <td>0</td>\n",
       "      <td>0</td>\n",
       "      <td>0</td>\n",
       "      <td>0</td>\n",
       "      <td>0</td>\n",
       "    </tr>\n",
       "  </tbody>\n",
       "</table>\n",
       "<p>2 rows × 29 columns</p>\n",
       "</div>"
      ],
      "text/plain": [
       "   # Fecha de descarga                    BL No.   AID          Origen  \\\n",
       "0  1        2024-01-04  SSZ1410999 / SGB202311002  118          BRASIL   \n",
       "1  2        2024-01-17             MIA/PTY/E23220  119  ESTADOS UNIDOS   \n",
       "\n",
       "                  REFERENCIA Puerto de llegada  Contenedor  Tamaño  \\\n",
       "0  SSZ1410999 / SGB202311002        MANZANILLO  TEXU9539902     40   \n",
       "1             MIA/PTY/E23220        MANZANILLO       724816     26   \n",
       "\n",
       "   DMC $125.00  ...   TI  Gastos Portuarios  Otros /Flete  \\\n",
       "0  20230702186  ...  0.0                 47           0.0   \n",
       "1  20230698394  ...  0.0                  0          15.0   \n",
       "\n",
       "   Documentacion de aduana  Valor F.O.B.  ASN OK?  excedente  Faltante  \\\n",
       "0                    25 TI     100599.95        0          0         0   \n",
       "1                        0      15408.92        0          0         0   \n",
       "\n",
       "   Abolladura  Producto afectado  \n",
       "0           0                  0  \n",
       "1           0                  0  \n",
       "\n",
       "[2 rows x 29 columns]"
      ]
     },
     "execution_count": 311,
     "metadata": {},
     "output_type": "execute_result"
    }
   ],
   "source": [
    "# Prueba de Header\n",
    "masterImports.fillna(0, inplace=True)\n",
    "masterImports.head(2)\n"
   ]
  },
  {
   "cell_type": "markdown",
   "metadata": {},
   "source": [
    "# Apartado de Imports"
   ]
  },
  {
   "cell_type": "markdown",
   "metadata": {},
   "source": [
    "Acumulado"
   ]
  },
  {
   "cell_type": "code",
   "execution_count": 312,
   "metadata": {},
   "outputs": [
    {
     "name": "stdout",
     "output_type": "stream",
     "text": [
      "Total de cajas:  111765\n",
      "Total de CBM:  721.5899999999999\n",
      "Total de Paletas:  728\n"
     ]
    }
   ],
   "source": [
    "totalCajas = int(masterImports['CAJAS'].sum())\n",
    "totalCBM = float(masterImports['CBM'].sum())\n",
    "totalPaletas = int(masterImports['Total Paletas'].sum())\n",
    "palSKU = int(masterImports[ 'PALETAS 1 SKU'].sum())\n",
    "\n",
    "\n",
    "print('Total de cajas: ', totalCajas)\t\n",
    "print('Total de CBM: ',  totalCBM)\n",
    "print('Total de Paletas: ', totalPaletas)\n"
   ]
  },
  {
   "cell_type": "markdown",
   "metadata": {},
   "source": [
    "Cuadro de Embarques"
   ]
  },
  {
   "cell_type": "code",
   "execution_count": 313,
   "metadata": {},
   "outputs": [
    {
     "data": {
      "text/html": [
       "<div>\n",
       "<style scoped>\n",
       "    .dataframe tbody tr th:only-of-type {\n",
       "        vertical-align: middle;\n",
       "    }\n",
       "\n",
       "    .dataframe tbody tr th {\n",
       "        vertical-align: top;\n",
       "    }\n",
       "\n",
       "    .dataframe thead th {\n",
       "        text-align: right;\n",
       "    }\n",
       "</style>\n",
       "<table border=\"1\" class=\"dataframe\">\n",
       "  <thead>\n",
       "    <tr style=\"text-align: right;\">\n",
       "      <th>Fecha de descarga</th>\n",
       "      <th>April</th>\n",
       "      <th>August</th>\n",
       "      <th>February</th>\n",
       "      <th>January</th>\n",
       "      <th>July</th>\n",
       "      <th>March</th>\n",
       "      <th>May</th>\n",
       "    </tr>\n",
       "    <tr>\n",
       "      <th>Tamaño</th>\n",
       "      <th></th>\n",
       "      <th></th>\n",
       "      <th></th>\n",
       "      <th></th>\n",
       "      <th></th>\n",
       "      <th></th>\n",
       "      <th></th>\n",
       "    </tr>\n",
       "  </thead>\n",
       "  <tbody>\n",
       "    <tr>\n",
       "      <th>20</th>\n",
       "      <td>0.0</td>\n",
       "      <td>1.0</td>\n",
       "      <td>2.0</td>\n",
       "      <td>0.0</td>\n",
       "      <td>1.0</td>\n",
       "      <td>0.0</td>\n",
       "      <td>0.0</td>\n",
       "    </tr>\n",
       "    <tr>\n",
       "      <th>26</th>\n",
       "      <td>3.0</td>\n",
       "      <td>0.0</td>\n",
       "      <td>0.0</td>\n",
       "      <td>2.0</td>\n",
       "      <td>0.0</td>\n",
       "      <td>0.0</td>\n",
       "      <td>0.0</td>\n",
       "    </tr>\n",
       "    <tr>\n",
       "      <th>40</th>\n",
       "      <td>2.0</td>\n",
       "      <td>2.0</td>\n",
       "      <td>0.0</td>\n",
       "      <td>2.0</td>\n",
       "      <td>4.0</td>\n",
       "      <td>4.0</td>\n",
       "      <td>5.0</td>\n",
       "    </tr>\n",
       "    <tr>\n",
       "      <th>LCL</th>\n",
       "      <td>0.0</td>\n",
       "      <td>1.0</td>\n",
       "      <td>0.0</td>\n",
       "      <td>0.0</td>\n",
       "      <td>3.0</td>\n",
       "      <td>0.0</td>\n",
       "      <td>0.0</td>\n",
       "    </tr>\n",
       "  </tbody>\n",
       "</table>\n",
       "</div>"
      ],
      "text/plain": [
       "Fecha de descarga  April  August  February  January  July  March  May\n",
       "Tamaño                                                               \n",
       "20                   0.0     1.0       2.0      0.0   1.0    0.0  0.0\n",
       "26                   3.0     0.0       0.0      2.0   0.0    0.0  0.0\n",
       "40                   2.0     2.0       0.0      2.0   4.0    4.0  5.0\n",
       "LCL                  0.0     1.0       0.0      0.0   3.0    0.0  0.0"
      ]
     },
     "execution_count": 313,
     "metadata": {},
     "output_type": "execute_result"
    }
   ],
   "source": [
    "fechaDescarga = masterImports['Fecha de descarga']\n",
    "fechaDescarga = fechaDescarga.dt.strftime('%B')  # Formatear la fecha para obtener solo el mes y el año\n",
    "\n",
    "# Crear la tabla pivote con los meses como columnas\n",
    "contRecibidos = pd.pivot_table(masterImports, index=fechaDescarga, columns='Tamaño', values='#', aggfunc='count').fillna(0)\n",
    "contRecibidos = contRecibidos.transpose()\n",
    "\n",
    "contRecibidos\n"
   ]
  },
  {
   "cell_type": "code",
   "execution_count": 314,
   "metadata": {},
   "outputs": [
    {
     "name": "stdout",
     "output_type": "stream",
     "text": [
      "Fecha de descarga\n",
      "Enero      4.0\n",
      "Febrero    2.0\n",
      "Marzo      4.0\n",
      "Abril      5.0\n",
      "Mayo       5.0\n",
      "Julio      8.0\n",
      "Agosto     4.0\n",
      "dtype: float64\n"
     ]
    }
   ],
   "source": [
    "# Sumar los valores de cada columna (mes) en contRecibidos\n",
    "# Traducir los nombres de los meses al español\n",
    "traduccion_meses = {\n",
    "    'January': 'Enero', 'February': 'Febrero', 'March': 'Marzo', 'April': 'Abril',\n",
    "    'May': 'Mayo', 'June': 'Junio', 'July': 'Julio', 'August': 'Agosto',\n",
    "    'September': 'Septiembre', 'October': 'Octubre', 'November': 'Noviembre', 'December': 'Diciembre'\n",
    "}\n",
    "\n",
    "# Sumar los valores de cada columna (mes) en contRecibidos\n",
    "suma_meses = contRecibidos.sum()\n",
    "\n",
    "# Convertir el resultado en una serie\n",
    "suma_meses = pd.Series(suma_meses)\n",
    "\n",
    "# Ordenar la serie por el orden de los meses\n",
    "orden_meses = ['January', 'February', 'March', 'April', 'May', 'June', 'July', 'August', 'September', 'October', 'November', 'December']\n",
    "suma_meses = suma_meses.reindex(orden_meses).dropna()\n",
    "\n",
    "# Traducir los nombres de los meses al español\n",
    "suma_meses.index = suma_meses.index.map(traduccion_meses)\n",
    "\n",
    "print(suma_meses)\n",
    "\n"
   ]
  },
  {
   "cell_type": "code",
   "execution_count": 315,
   "metadata": {},
   "outputs": [
    {
     "name": "stdout",
     "output_type": "stream",
     "text": [
      "Enero: 4.0, Febrero: 2.0, Marzo: 4.0, Abril: 5.0, Mayo: 5.0, Julio: 8.0, Agosto: 4.0\n"
     ]
    }
   ],
   "source": [
    "sumEnero = suma_meses['Enero']\n",
    "sumFebrero = suma_meses['Febrero']\n",
    "sumMarzo = suma_meses['Marzo']\n",
    "sumAbril = suma_meses['Abril']\n",
    "sumMayo = suma_meses['Mayo']\n",
    "sumJulio = suma_meses['Julio']\n",
    "sumAgosto = suma_meses['Agosto']\n",
    "\n",
    "print(f\"Enero: {sumEnero}, Febrero: {sumFebrero}, Marzo: {sumMarzo}, Abril: {sumAbril}, Mayo: {sumMayo}, Julio: {sumJulio}, Agosto: {sumAgosto}\")"
   ]
  },
  {
   "cell_type": "code",
   "execution_count": 326,
   "metadata": {
    "vscode": {
     "languageId": "ruby"
    }
   },
   "outputs": [
    {
     "name": "stdout",
     "output_type": "stream",
     "text": [
      "El DataFrame se ha convertido y guardado en contRecibidos.json\n"
     ]
    }
   ],
   "source": [
    "import json\n",
    "\n",
    "# Convertir el DataFrame a un diccionario\n",
    "contRecibidos_dict = contRecibidos.to_dict()\n",
    "\n",
    "# Convertir el diccionario a un JSON\n",
    "contRecibidos_json = json.dumps(contRecibidos_dict, indent=4)\n",
    "\n",
    "# Guardar el JSON en un archivo\n",
    "with open('data/json/contRecibidos.json', 'w') as json_file:\n",
    "    json_file.write(contRecibidos_json)\n",
    "\n",
    "print(\"El DataFrame se ha convertido y guardado en contRecibidos.json\")"
   ]
  },
  {
   "cell_type": "markdown",
   "metadata": {},
   "source": [
    "Contenedores recibidos por país"
   ]
  },
  {
   "cell_type": "code",
   "execution_count": 317,
   "metadata": {},
   "outputs": [
    {
     "data": {
      "text/html": [
       "<div>\n",
       "<style scoped>\n",
       "    .dataframe tbody tr th:only-of-type {\n",
       "        vertical-align: middle;\n",
       "    }\n",
       "\n",
       "    .dataframe tbody tr th {\n",
       "        vertical-align: top;\n",
       "    }\n",
       "\n",
       "    .dataframe thead th {\n",
       "        text-align: right;\n",
       "    }\n",
       "</style>\n",
       "<table border=\"1\" class=\"dataframe\">\n",
       "  <thead>\n",
       "    <tr style=\"text-align: right;\">\n",
       "      <th>Fecha de descarga</th>\n",
       "      <th>April</th>\n",
       "      <th>August</th>\n",
       "      <th>February</th>\n",
       "      <th>January</th>\n",
       "      <th>July</th>\n",
       "      <th>March</th>\n",
       "      <th>May</th>\n",
       "    </tr>\n",
       "    <tr>\n",
       "      <th>Origen</th>\n",
       "      <th></th>\n",
       "      <th></th>\n",
       "      <th></th>\n",
       "      <th></th>\n",
       "      <th></th>\n",
       "      <th></th>\n",
       "      <th></th>\n",
       "    </tr>\n",
       "  </thead>\n",
       "  <tbody>\n",
       "    <tr>\n",
       "      <th>ALEMANIA</th>\n",
       "      <td>0.0</td>\n",
       "      <td>0.0</td>\n",
       "      <td>0.0</td>\n",
       "      <td>0.0</td>\n",
       "      <td>1.0</td>\n",
       "      <td>0.0</td>\n",
       "      <td>0.0</td>\n",
       "    </tr>\n",
       "    <tr>\n",
       "      <th>ARGENTINA</th>\n",
       "      <td>0.0</td>\n",
       "      <td>1.0</td>\n",
       "      <td>0.0</td>\n",
       "      <td>0.0</td>\n",
       "      <td>0.0</td>\n",
       "      <td>0.0</td>\n",
       "      <td>1.0</td>\n",
       "    </tr>\n",
       "    <tr>\n",
       "      <th>ASIA</th>\n",
       "      <td>0.0</td>\n",
       "      <td>0.0</td>\n",
       "      <td>0.0</td>\n",
       "      <td>0.0</td>\n",
       "      <td>1.0</td>\n",
       "      <td>0.0</td>\n",
       "      <td>0.0</td>\n",
       "    </tr>\n",
       "    <tr>\n",
       "      <th>BELGICA</th>\n",
       "      <td>1.0</td>\n",
       "      <td>0.0</td>\n",
       "      <td>0.0</td>\n",
       "      <td>0.0</td>\n",
       "      <td>0.0</td>\n",
       "      <td>0.0</td>\n",
       "      <td>0.0</td>\n",
       "    </tr>\n",
       "    <tr>\n",
       "      <th>BRASIL</th>\n",
       "      <td>1.0</td>\n",
       "      <td>0.0</td>\n",
       "      <td>1.0</td>\n",
       "      <td>1.0</td>\n",
       "      <td>3.0</td>\n",
       "      <td>3.0</td>\n",
       "      <td>2.0</td>\n",
       "    </tr>\n",
       "    <tr>\n",
       "      <th>CHINA</th>\n",
       "      <td>1.0</td>\n",
       "      <td>1.0</td>\n",
       "      <td>0.0</td>\n",
       "      <td>1.0</td>\n",
       "      <td>0.0</td>\n",
       "      <td>0.0</td>\n",
       "      <td>0.0</td>\n",
       "    </tr>\n",
       "    <tr>\n",
       "      <th>COLOMBIA</th>\n",
       "      <td>1.0</td>\n",
       "      <td>2.0</td>\n",
       "      <td>1.0</td>\n",
       "      <td>1.0</td>\n",
       "      <td>1.0</td>\n",
       "      <td>1.0</td>\n",
       "      <td>2.0</td>\n",
       "    </tr>\n",
       "    <tr>\n",
       "      <th>ESTADOS UNIDOS</th>\n",
       "      <td>1.0</td>\n",
       "      <td>0.0</td>\n",
       "      <td>0.0</td>\n",
       "      <td>1.0</td>\n",
       "      <td>1.0</td>\n",
       "      <td>0.0</td>\n",
       "      <td>0.0</td>\n",
       "    </tr>\n",
       "    <tr>\n",
       "      <th>HOLANDA</th>\n",
       "      <td>0.0</td>\n",
       "      <td>0.0</td>\n",
       "      <td>0.0</td>\n",
       "      <td>0.0</td>\n",
       "      <td>1.0</td>\n",
       "      <td>0.0</td>\n",
       "      <td>0.0</td>\n",
       "    </tr>\n",
       "  </tbody>\n",
       "</table>\n",
       "</div>"
      ],
      "text/plain": [
       "Fecha de descarga  April  August  February  January  July  March  May\n",
       "Origen                                                               \n",
       "ALEMANIA             0.0     0.0       0.0      0.0   1.0    0.0  0.0\n",
       "ARGENTINA            0.0     1.0       0.0      0.0   0.0    0.0  1.0\n",
       "ASIA                 0.0     0.0       0.0      0.0   1.0    0.0  0.0\n",
       "BELGICA              1.0     0.0       0.0      0.0   0.0    0.0  0.0\n",
       "BRASIL               1.0     0.0       1.0      1.0   3.0    3.0  2.0\n",
       "CHINA                1.0     1.0       0.0      1.0   0.0    0.0  0.0\n",
       "COLOMBIA             1.0     2.0       1.0      1.0   1.0    1.0  2.0\n",
       "ESTADOS UNIDOS       1.0     0.0       0.0      1.0   1.0    0.0  0.0\n",
       "HOLANDA              0.0     0.0       0.0      0.0   1.0    0.0  0.0"
      ]
     },
     "execution_count": 317,
     "metadata": {},
     "output_type": "execute_result"
    }
   ],
   "source": [
    "contMeses = pd.pivot_table(masterImports, index=fechaDescarga, columns='Origen', values='#', aggfunc='count').fillna(0)\n",
    "contMeses = contMeses.transpose()\n",
    "\n",
    "contMeses"
   ]
  },
  {
   "cell_type": "code",
   "execution_count": 322,
   "metadata": {},
   "outputs": [
    {
     "name": "stdout",
     "output_type": "stream",
     "text": [
      "El archívo 'origenes.json' ha sido creado con éxito\n"
     ]
    }
   ],
   "source": [
    "origenes = masterImports['Origen']\n",
    "origenes = origenes.value_counts()\n",
    "\n",
    "origenes\n",
    "\n",
    "import json\n",
    "\n",
    "origenes_dict = origenes.to_dict()\n",
    "origenes_json = json.dumps(origenes_dict, indent=4)\n",
    "\n",
    "with open('data/json/origenes.json', 'w') as json_file:\n",
    "    json_file.write(origenes_json)\n",
    "    \n",
    "    \n",
    "print(\"El archívo 'origenes.json' ha sido creado con éxito\")"
   ]
  },
  {
   "cell_type": "markdown",
   "metadata": {},
   "source": [
    "Cajas, CBM, KG y Paletas mensuales recibidas"
   ]
  },
  {
   "cell_type": "code",
   "execution_count": 319,
   "metadata": {},
   "outputs": [
    {
     "name": "stdout",
     "output_type": "stream",
     "text": [
      "El peso total es:  428516.05 | La distribución mensual es: \n"
     ]
    },
    {
     "data": {
      "text/html": [
       "<div>\n",
       "<style scoped>\n",
       "    .dataframe tbody tr th:only-of-type {\n",
       "        vertical-align: middle;\n",
       "    }\n",
       "\n",
       "    .dataframe tbody tr th {\n",
       "        vertical-align: top;\n",
       "    }\n",
       "\n",
       "    .dataframe thead th {\n",
       "        text-align: right;\n",
       "    }\n",
       "</style>\n",
       "<table border=\"1\" class=\"dataframe\">\n",
       "  <thead>\n",
       "    <tr style=\"text-align: right;\">\n",
       "      <th>Fecha de descarga</th>\n",
       "      <th>April</th>\n",
       "      <th>August</th>\n",
       "      <th>February</th>\n",
       "      <th>January</th>\n",
       "      <th>July</th>\n",
       "      <th>March</th>\n",
       "      <th>May</th>\n",
       "    </tr>\n",
       "  </thead>\n",
       "  <tbody>\n",
       "    <tr>\n",
       "      <th>PESO</th>\n",
       "      <td>34715.36</td>\n",
       "      <td>59280.89</td>\n",
       "      <td>24961.32</td>\n",
       "      <td>44609.72</td>\n",
       "      <td>97857.23</td>\n",
       "      <td>87542.8</td>\n",
       "      <td>79548.73</td>\n",
       "    </tr>\n",
       "  </tbody>\n",
       "</table>\n",
       "</div>"
      ],
      "text/plain": [
       "Fecha de descarga     April    August  February   January      July    March  \\\n",
       "PESO               34715.36  59280.89  24961.32  44609.72  97857.23  87542.8   \n",
       "\n",
       "Fecha de descarga       May  \n",
       "PESO               79548.73  "
      ]
     },
     "execution_count": 319,
     "metadata": {},
     "output_type": "execute_result"
    }
   ],
   "source": [
    "kg = masterImports['PESO']\n",
    "kgMensual = pd.pivot_table(masterImports, index=fechaDescarga, values='PESO', aggfunc='sum').fillna(0)\n",
    "kgMensual = kgMensual.transpose()\n",
    "\n",
    "kg_total = kg.sum()\n",
    "\n",
    "print(\"El peso total es: \",kg_total, \"| La distribución mensual es: \")\n",
    "kgMensual"
   ]
  },
  {
   "cell_type": "code",
   "execution_count": 320,
   "metadata": {},
   "outputs": [
    {
     "name": "stdout",
     "output_type": "stream",
     "text": [
      "El CBM total es:  721.5899999999999 | La distribución mensual es: \n"
     ]
    },
    {
     "data": {
      "text/html": [
       "<div>\n",
       "<style scoped>\n",
       "    .dataframe tbody tr th:only-of-type {\n",
       "        vertical-align: middle;\n",
       "    }\n",
       "\n",
       "    .dataframe tbody tr th {\n",
       "        vertical-align: top;\n",
       "    }\n",
       "\n",
       "    .dataframe thead th {\n",
       "        text-align: right;\n",
       "    }\n",
       "</style>\n",
       "<table border=\"1\" class=\"dataframe\">\n",
       "  <thead>\n",
       "    <tr style=\"text-align: right;\">\n",
       "      <th>Fecha de descarga</th>\n",
       "      <th>April</th>\n",
       "      <th>August</th>\n",
       "      <th>February</th>\n",
       "      <th>January</th>\n",
       "      <th>July</th>\n",
       "      <th>March</th>\n",
       "      <th>May</th>\n",
       "    </tr>\n",
       "  </thead>\n",
       "  <tbody>\n",
       "    <tr>\n",
       "      <th>CBM</th>\n",
       "      <td>62.158</td>\n",
       "      <td>136.064</td>\n",
       "      <td>37.852</td>\n",
       "      <td>101.56</td>\n",
       "      <td>156.486</td>\n",
       "      <td>148.696</td>\n",
       "      <td>78.774</td>\n",
       "    </tr>\n",
       "  </tbody>\n",
       "</table>\n",
       "</div>"
      ],
      "text/plain": [
       "Fecha de descarga   April   August  February  January     July    March  \\\n",
       "CBM                62.158  136.064    37.852   101.56  156.486  148.696   \n",
       "\n",
       "Fecha de descarga     May  \n",
       "CBM                78.774  "
      ]
     },
     "execution_count": 320,
     "metadata": {},
     "output_type": "execute_result"
    }
   ],
   "source": [
    "cbm = masterImports['CBM']\n",
    "cbmMensual = pd.pivot_table(masterImports, index=fechaDescarga, values='CBM', aggfunc='sum').fillna(0)\n",
    "cbmMensual = cbmMensual.transpose()\n",
    "\n",
    "cbm_total = cbm.sum()\n",
    "\n",
    "print(\"El CBM total es: \",cbm_total, \"| La distribución mensual es: \")\n",
    "cbmMensual"
   ]
  },
  {
   "cell_type": "code",
   "execution_count": 321,
   "metadata": {},
   "outputs": [
    {
     "data": {
      "text/html": [
       "<div>\n",
       "<style scoped>\n",
       "    .dataframe tbody tr th:only-of-type {\n",
       "        vertical-align: middle;\n",
       "    }\n",
       "\n",
       "    .dataframe tbody tr th {\n",
       "        vertical-align: top;\n",
       "    }\n",
       "\n",
       "    .dataframe thead th {\n",
       "        text-align: right;\n",
       "    }\n",
       "</style>\n",
       "<table border=\"1\" class=\"dataframe\">\n",
       "  <thead>\n",
       "    <tr style=\"text-align: right;\">\n",
       "      <th>Fecha de descarga</th>\n",
       "      <th>April</th>\n",
       "      <th>August</th>\n",
       "      <th>February</th>\n",
       "      <th>January</th>\n",
       "      <th>July</th>\n",
       "      <th>March</th>\n",
       "      <th>May</th>\n",
       "    </tr>\n",
       "  </thead>\n",
       "  <tbody>\n",
       "    <tr>\n",
       "      <th>totalPaletas</th>\n",
       "      <td>65.0</td>\n",
       "      <td>73.0</td>\n",
       "      <td>36.0</td>\n",
       "      <td>138.0</td>\n",
       "      <td>161.0</td>\n",
       "      <td>140.0</td>\n",
       "      <td>127.0</td>\n",
       "    </tr>\n",
       "  </tbody>\n",
       "</table>\n",
       "</div>"
      ],
      "text/plain": [
       "Fecha de descarga  April  August  February  January   July  March    May\n",
       "totalPaletas        65.0    73.0      36.0    138.0  161.0  140.0  127.0"
      ]
     },
     "execution_count": 321,
     "metadata": {},
     "output_type": "execute_result"
    }
   ],
   "source": [
    "paletasSku = masterImports['PALETAS 1 SKU']\n",
    "paletasMixed = masterImports['PALETAS MIX SKU']\n",
    "\n",
    "# totalPaletas = paletasSku.sum() + paletasMixed.sum()\n",
    "masterImports['totalPaletas'] = masterImports['PALETAS 1 SKU'] + masterImports['PALETAS MIX SKU']\n",
    "\n",
    "totalPaletasMes = pd.pivot_table(masterImports, index=fechaDescarga, values='totalPaletas', aggfunc='sum').fillna(0)\n",
    "totalPaletasMes = totalPaletasMes.transpose()\n",
    "\n",
    "totalPaletasMes\n",
    "# print(masterImports.head(2))"
   ]
  }
 ],
 "metadata": {
  "kernelspec": {
   "display_name": "base",
   "language": "python",
   "name": "python3"
  },
  "language_info": {
   "codemirror_mode": {
    "name": "ipython",
    "version": 3
   },
   "file_extension": ".py",
   "mimetype": "text/x-python",
   "name": "python",
   "nbconvert_exporter": "python",
   "pygments_lexer": "ipython3",
   "version": "3.12.4"
  }
 },
 "nbformat": 4,
 "nbformat_minor": 2
}
